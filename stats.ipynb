{
 "cells": [
  {
   "cell_type": "code",
   "execution_count": null,
   "metadata": {},
   "outputs": [],
   "source": [
    "import psycopg2 as ps\n",
    "from sshtunnel import SSHTunnelForwarder\n",
    "import configparser as cp\n",
    "import os\n",
    "\n",
    "import pandas as pd\n",
    "import seaborn as sns\n",
    "import matplotlib.pyplot as plt\n",
    "%matplotlib inline\n"
   ]
  },
  {
   "cell_type": "markdown",
   "metadata": {},
   "source": [
    "## Parse configs"
   ]
  },
  {
   "cell_type": "code",
   "execution_count": null,
   "metadata": {},
   "outputs": [],
   "source": [
    "userpath = os.path.expanduser(\"~/\")\n",
    "Config = cp.ConfigParser(interpolation=None)\n",
    "Config.read(\"{}{}\".format(userpath, \".redshift_creds.ini\"))"
   ]
  },
  {
   "cell_type": "code",
   "execution_count": null,
   "metadata": {},
   "outputs": [],
   "source": [
    "def ConfigSectionMap(section):\n",
    "    dict1 = {}\n",
    "    options = Config.options(section)\n",
    "    for option in options:\n",
    "        try:\n",
    "            dict1[option] = Config.get(section, option)\n",
    "            if dict1[option] == -1:\n",
    "                DebugPrint(\"skip: %s\" % option)\n",
    "        except:\n",
    "            print(\"exception on %s!\" % option)\n",
    "            dict1[option] = None\n",
    "    return dict1"
   ]
  },
  {
   "cell_type": "code",
   "execution_count": null,
   "metadata": {},
   "outputs": [],
   "source": [
    "try:\n",
    "    SSH_USERNAME = ConfigSectionMap(\"REDSHIFT\").get('ssh_username')\n",
    "    DB_USER = ConfigSectionMap(\"REDSHIFT\").get('db_username')\n",
    "    DB_PASSWORD = ConfigSectionMap(\"REDSHIFT\").get('db_password')\n",
    "    DB_PORT = ConfigSectionMap(\"REDSHIFT\").get('db_port')\n",
    "except Exception as e: \n",
    "    print(e)\n",
    "SSH_PRIVATE_KEY = \"~/.ssh/id_rsa\"\n",
    "DB_HOST = '127.0.0.1'\n"
   ]
  },
  {
   "cell_type": "markdown",
   "metadata": {},
   "source": [
    "## Open tunnel and connect to db"
   ]
  },
  {
   "cell_type": "code",
   "execution_count": null,
   "metadata": {},
   "outputs": [],
   "source": [
    "with SSHTunnelForwarder(\n",
    "('ec2-107-23-57-72.compute-1.amazonaws.com', 22),\n",
    "    ssh_username=SSH_USERNAME,\n",
    "    ssh_private_key=SSH_PRIVATE_KEY,\n",
    "    remote_bind_address=('localhost', 5439)) as server:\n",
    "\n",
    "    server.start()\n",
    "    print(\"server connected via ssh\")\n",
    "    \n",
    "    params = {\n",
    "        'database':'claims',\n",
    "        'user': DB_USER,\n",
    "        'password': DB_PASSWORD,\n",
    "        'host': DB_HOST,\n",
    "        'port': DB_PORT\n",
    "    }\n",
    "    conn = ps.connect(**params)\n",
    "    curs = conn.cursor()\n",
    "    print(\"db connected\")\n"
   ]
  },
  {
   "cell_type": "markdown",
   "metadata": {},
   "source": [
    "## Get most recent cbrc table name"
   ]
  },
  {
   "cell_type": "code",
   "execution_count": null,
   "metadata": {},
   "outputs": [],
   "source": [
    "most_recent_cbrc_table_name_sql = \"\"\"SELECT tablename\n",
    "FROM svv_external_tables\n",
    "WHERE tablename LIKE 'main_raw_cbrc_bronze%'\n",
    "ORDER BY tablename DESC\n",
    "LIMIT 1;\"\"\"\n",
    "\n",
    "curs.execute(most_recent_cbrc_table_name_sql)\n",
    "\n",
    "table_name = curs.fetchall()[0][0]\n",
    "table_name = \"{}{}\".format(\"claims_spectrum.\",table_name)"
   ]
  },
  {
   "cell_type": "markdown",
   "metadata": {},
   "source": [
    "## Count distinct pids"
   ]
  },
  {
   "cell_type": "code",
   "execution_count": null,
   "metadata": {},
   "outputs": [],
   "source": [
    "distinct_pids = \"\"\"select count(distinct gr_pid)\n",
    "from {};\"\"\".format(table_name)\n",
    "curs.execute(distinct_pids)\n",
    "distinct_pids_res = pd.DataFrame(curs.fetchall(), columns=['distinct pids'])\n",
    "distinct_pids_res"
   ]
  },
  {
   "cell_type": "markdown",
   "metadata": {},
   "source": [
    "## Count Distinct NPI's"
   ]
  },
  {
   "cell_type": "code",
   "execution_count": null,
   "metadata": {},
   "outputs": [],
   "source": [
    "distinct_npis = \"\"\"select count(distinct normalized_npi)\n",
    "from {};\"\"\".format(table_name)\n",
    "curs.execute(distinct_npis)\n",
    "distinct_npis_res = pd.DataFrame(curs.fetchall(), columns=['distinct npis'])\n",
    "distinct_npis_res"
   ]
  },
  {
   "cell_type": "markdown",
   "metadata": {},
   "source": [
    "## Average Frequency"
   ]
  },
  {
   "cell_type": "code",
   "execution_count": null,
   "metadata": {},
   "outputs": [],
   "source": [
    "average_frequency = \"\"\"\n",
    "SELECT AVG(gr_claim_id_count) AS avg_frequency\n",
    "FROM {}\"\"\".format(table_name)\n",
    "curs.execute(average_frequency)\n",
    "avg_freq_res = pd.DataFrame(curs.fetchall(), columns=['Average frequency'])\n",
    "avg_freq_res"
   ]
  },
  {
   "cell_type": "markdown",
   "metadata": {},
   "source": [
    "## Locations per pid frequency distribution"
   ]
  },
  {
   "cell_type": "code",
   "execution_count": null,
   "metadata": {},
   "outputs": [],
   "source": [
    "# Note that there is a spike on 20 since we limit the number of visits for a patient to 20 \n",
    "# in the Topk calculation in bronze\n",
    "locations_per_pid_freq_dist = \"\"\"\n",
    "SELECT number_of_visits,\n",
    "       COUNT(number_of_visits) num_of_visits_count_freq\n",
    "FROM (\n",
    "       SELECT gr_pid,\n",
    "              COUNT(normalized_npi) number_of_visits\n",
    "       FROM {}\n",
    "       GROUP BY gr_pid\n",
    "     ) AS base\n",
    "GROUP BY number_of_visits\n",
    "ORDER BY number_of_visits DESC;\n",
    "\"\"\".format(table_name)\n",
    "\n",
    "curs.execute(locations_per_pid_freq_dist)\n",
    "loc_per_pid_res = pd.DataFrame(curs.fetchall(), columns=['A. Number of NPI visited', 'Count of pids with A'])\n",
    "loc_per_pid_res"
   ]
  },
  {
   "cell_type": "code",
   "execution_count": null,
   "metadata": {},
   "outputs": [],
   "source": [
    "sns.barplot(x='A. Number of NPI visited', y='Count of pids with A', data=loc_per_pid_res)"
   ]
  },
  {
   "cell_type": "markdown",
   "metadata": {},
   "source": [
    "## Records per month"
   ]
  },
  {
   "cell_type": "code",
   "execution_count": null,
   "metadata": {},
   "outputs": [],
   "source": [
    "records_per_month = \"\"\"\n",
    "SELECT COUNT(*), date_trunc('mon', visit_end_date) as month\n",
    "FROM {}\n",
    "GROUP BY date_trunc('mon', visit_end_date)\n",
    "ORDER BY month ASC\"\"\".format(table_name)\n",
    "\n",
    "curs.execute(records_per_month)\n",
    "rec_per_month_res = pd.DataFrame(curs.fetchall(), columns=['Count of visits', 'date'])\n",
    "rec_per_month_res"
   ]
  },
  {
   "cell_type": "markdown",
   "metadata": {},
   "source": [
    "## Log Based Histogram to track number of pids per location"
   ]
  },
  {
   "cell_type": "code",
   "execution_count": null,
   "metadata": {},
   "outputs": [],
   "source": [
    "# log based\n",
    "visits_per_location_hist = \"\"\"\n",
    "SELECT Count(b.count_of_count_per_npi) as cc,\n",
    "       count_of_count_per_npi\n",
    "FROM\n",
    "(\n",
    "  SELECT cast(log(number_of_visits) AS int) count_of_count_per_npi\n",
    "\n",
    "  FROM (\n",
    "         SELECT normalized_npi,\n",
    "                COUNT(gr_pid) number_of_visits\n",
    "         FROM {}\n",
    "         GROUP BY normalized_npi\n",
    "       ) AS base\n",
    ") as b\n",
    "GROUP BY count_of_count_per_npi\n",
    "ORDER BY count_of_count_per_npi;\"\"\".format(table_name)\n",
    "\n",
    "curs.execute(visits_per_location_hist)\n",
    "visits_per_loc_hist_res = pd.DataFrame(curs.fetchall(), columns=['count', 'log based'])\n",
    "visits_per_loc_hist_res"
   ]
  },
  {
   "cell_type": "markdown",
   "metadata": {},
   "source": [
    "## Top 20 visited NPI's"
   ]
  },
  {
   "cell_type": "code",
   "execution_count": null,
   "metadata": {},
   "outputs": [],
   "source": [
    "visits_per_location = \"\"\"\n",
    "    SELECT normalized_npi,\n",
    "        COUNT(gr_pid) number_of_visits\n",
    "    FROM {}\n",
    "    GROUP BY normalized_npi\n",
    "    ORDER BY number_of_visits desc\n",
    "    limit 20\n",
    "\"\"\".format(table_name)\n",
    "\n",
    "curs.execute(visits_per_location)\n",
    "visits_per_location_res = pd.DataFrame(curs.fetchall(), columns=[\"NPI\", \"Count\"])\n",
    "visits_per_location_res"
   ]
  },
  {
   "cell_type": "markdown",
   "metadata": {},
   "source": [
    "## Close Connection"
   ]
  },
  {
   "cell_type": "code",
   "execution_count": null,
   "metadata": {},
   "outputs": [],
   "source": [
    "conn.close()"
   ]
  },
  {
   "cell_type": "code",
   "execution_count": null,
   "metadata": {},
   "outputs": [],
   "source": []
  }
 ],
 "metadata": {
  "kernelspec": {
   "display_name": "Python 3",
   "language": "python",
   "name": "python3"
  },
  "language_info": {
   "codemirror_mode": {
    "name": "ipython",
    "version": 3
   },
   "file_extension": ".py",
   "mimetype": "text/x-python",
   "name": "python",
   "nbconvert_exporter": "python",
   "pygments_lexer": "ipython3",
   "version": "3.7.1"
  }
 },
 "nbformat": 4,
 "nbformat_minor": 2
}
